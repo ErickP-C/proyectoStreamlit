{
  "nbformat": 4,
  "nbformat_minor": 0,
  "metadata": {
    "colab": {
      "provenance": [],
      "authorship_tag": "ABX9TyORXl+ZPJvkNUuDMtZO/RWZ",
      "include_colab_link": true
    },
    "kernelspec": {
      "name": "python3",
      "display_name": "Python 3"
    },
    "language_info": {
      "name": "python"
    }
  },
  "cells": [
    {
      "cell_type": "markdown",
      "metadata": {
        "id": "view-in-github",
        "colab_type": "text"
      },
      "source": [
        "<a href=\"https://colab.research.google.com/github/ErickP-C/proyectoStreamlit/blob/main/PROYECTO.ipynb\" target=\"_parent\"><img src=\"https://colab.research.google.com/assets/colab-badge.svg\" alt=\"Open In Colab\"/></a>"
      ]
    },
    {
      "cell_type": "code",
      "execution_count": null,
      "metadata": {
        "colab": {
          "base_uri": "https://localhost:8080/"
        },
        "id": "cU_a8nn9MoAY",
        "outputId": "8a39614b-e774-412d-b012-fd6421ed96c2"
      },
      "outputs": [
        {
          "output_type": "stream",
          "name": "stdout",
          "text": [
            "Overwriting app.py\n"
          ]
        }
      ],
      "source": [
        "%%writefile app.py\n",
        "\n",
        "import streamlit as st\n",
        "\n",
        "def main():\n",
        "    st.title(\"Formulario de Datos Personales\")\n",
        "\n",
        "    # Imagen\n",
        "    st.image(\"/content/drive/MyDrive/Archivos/Ejercicio/hospital_insurance.jpg\", use_column_width=True)\n",
        "\n",
        "    # Formulario para ingresar datos personales\n",
        "    st.sidebar.subheader(\"Ingresar datos personales\")\n",
        "    name = st.sidebar.text_input(\"Nombre\")\n",
        "    lastname = st.sidebar.text_input(\"Apellido Paterno\")\n",
        "    lastname = st.sidebar.text_input(\"Apellido Materno\")\n",
        "    age = st.sidebar.number_input(\"Edad\", min_value=0, max_value=150)\n",
        "    sex = st.sidebar.selectbox('Sexo', ['M', 'F'])\n",
        "    email = st.sidebar.text_input(\"Email\")\n",
        "    country = st.sidebar.text_input(\"Pais\")\n",
        "    city = st.sidebar.text_input(\"Ciudad\")\n",
        "\n",
        "    # Botón para enviar los datos del formulario\n",
        "    if st.sidebar.button(\"Enviar\"):\n",
        "        # Mostrar los datos ingresados en una tabla\n",
        "        st.subheader(\"Datos ingresados\")\n",
        "        data = {\n",
        "            \"Nombre\": [name],\n",
        "            \"Apellido Paterno\": [lastname],\n",
        "            \"Apellido Materno\": [lastname],\n",
        "            \"Edad\": [age],\n",
        "            \"Sexo\": [sex],\n",
        "            \"Email\": [email],\n",
        "            \"Pais\": [country],\n",
        "            \"Ciudad\": [city]\n",
        "        }\n",
        "        st.table(data)\n",
        "\n",
        "if __name__ == \"__main__\":\n",
        "    stored_data = []\n",
        "    main()"
      ]
    },
    {
      "cell_type": "code",
      "source": [
        "!pip install streamlit"
      ],
      "metadata": {
        "id": "eoO7vEQZvGR3"
      },
      "execution_count": null,
      "outputs": []
    },
    {
      "cell_type": "code",
      "source": [
        "from google.colab import drive\n",
        "drive.mount('/content/drive')"
      ],
      "metadata": {
        "colab": {
          "base_uri": "https://localhost:8080/"
        },
        "id": "zqQPwZePPTxg",
        "outputId": "59bab8fc-cae2-40aa-8864-6a7a5dbfce51"
      },
      "execution_count": null,
      "outputs": [
        {
          "output_type": "stream",
          "name": "stdout",
          "text": [
            "Mounted at /content/drive\n"
          ]
        }
      ]
    },
    {
      "cell_type": "code",
      "source": [
        "!streamlit run app.py & npx localtunnel --port 8501"
      ],
      "metadata": {
        "colab": {
          "base_uri": "https://localhost:8080/"
        },
        "id": "GJHE3P_eOAg6",
        "outputId": "2d2c0135-3031-41f4-ea78-2731aac82706"
      },
      "execution_count": null,
      "outputs": [
        {
          "output_type": "stream",
          "name": "stdout",
          "text": [
            "[#######...........] / extract:localtunnel: verb lock using /root/.npm/_locks/s\u001b[0m\u001b[K\n",
            "Collecting usage statistics. To deactivate, set browser.gatherUsageStats to False.\n",
            "\u001b[0m\n",
            "\u001b[K\u001b[?25hnpx: installed 22 in 5.959s\n",
            "\u001b[0m\n",
            "\u001b[34m\u001b[1m  You can now view your Streamlit app in your browser.\u001b[0m\n",
            "\u001b[0m\n",
            "\u001b[34m  Network URL: \u001b[0m\u001b[1mhttp://172.28.0.12:8501\u001b[0m\n",
            "\u001b[34m  External URL: \u001b[0m\u001b[1mhttp://34.80.220.0:8501\u001b[0m\n",
            "\u001b[0m\n",
            "your url is: https://seven-melons-jam.loca.lt\n",
            "\u001b[34m  Stopping...\u001b[0m\n",
            "^C\n"
          ]
        }
      ]
    }
  ]
}